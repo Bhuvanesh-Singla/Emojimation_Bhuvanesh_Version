{
  "nbformat": 4,
  "nbformat_minor": 0,
  "metadata": {
    "colab": {
      "provenance": [],
      "include_colab_link": true
    },
    "kernelspec": {
      "name": "python3",
      "display_name": "Python 3"
    },
    "language_info": {
      "name": "python"
    },
    "accelerator": "GPU",
    "gpuClass": "standard"
  },
  "cells": [
    {
      "cell_type": "markdown",
      "metadata": {
        "id": "view-in-github",
        "colab_type": "text"
      },
      "source": [
        "<a href=\"https://colab.research.google.com/github/Bhuvanesh-Singla/Emojimation_Bhuvanesh_Version/blob/main/_Copy_of_task1_v2_3.ipynb\" target=\"_parent\"><img src=\"https://colab.research.google.com/assets/colab-badge.svg\" alt=\"Open In Colab\"/></a>"
      ]
    },
    {
      "cell_type": "code",
      "execution_count": 1,
      "metadata": {
        "id": "HQY3_wwygVvP"
      },
      "outputs": [],
      "source": [
        "import numpy as np\n",
        "import pandas as pd\n",
        "import tensorflow as tf\n",
        "import os\n",
        "from tensorflow import keras\n",
        "from keras import Sequential\n",
        "from keras import layers, models\n",
        "from keras.layers import Dense,Conv2D,MaxPooling2D,Flatten,BatchNormalization,Dropout\n",
        "from keras.preprocessing.image import ImageDataGenerator\n",
        "from tensorflow.keras.utils import load_img\n",
        "from keras.layers import Conv2D, Dense, BatchNormalization, Activation, Dropout, MaxPooling2D, Flatten\n",
        "from tensorflow.keras.optimizers import Adam, RMSprop, SGD\n",
        "from keras.callbacks import ModelCheckpoint,EarlyStopping\n",
        "import datetime\n",
        "from keras import regularizers\n",
        "import matplotlib.pyplot as plt\n",
        "from keras.utils.vis_utils import plot_model\n",
        "from sklearn.model_selection import train_test_split"
      ]
    },
    {
      "cell_type": "code",
      "source": [
        "# Configure kaggle\n",
        "os.chdir('/root/')\n",
        "!mkdir -p .kaggle\n",
        "os.chdir('/root/.kaggle')\n",
        "!wget --no-check-certificate 'https://docs.google.com/uc?export=download&id=1Y-o0TVcjehM8SZB3Nt8U3xkyeQu-Nse-' -O kaggle.json > /dev/null 2>&1\n",
        "!ls /root/.kaggle\n",
        "\n",
        "# Set permissions \n",
        "!chmod 600 /root/.kaggle/kaggle.json\n",
        "\n",
        "# Create data folder\n",
        "os.chdir('/content/')\n",
        "!rm -rf data\n",
        "!mkdir data\n",
        "os.chdir('data')\n",
        "!pwd\n",
        "\n",
        "# Download data\n",
        "!pip install -q kaggle\n",
        "!kaggle competitions download -c challenges-in-representation-learning-facial-expression-recognition-challenge\n",
        "!pwd\n",
        "!ls\n",
        "# Unzip data\n",
        "!unzip challenges-in-representation-learning-facial-expression-recognition-challenge.zip train.csv test.csv"
      ],
      "metadata": {
        "id": "A_Y6R5rqgbVE",
        "colab": {
          "base_uri": "https://localhost:8080/"
        },
        "outputId": "ffd1b452-bfc5-4d7f-bb58-430f6d010fff"
      },
      "execution_count": 2,
      "outputs": [
        {
          "output_type": "stream",
          "name": "stdout",
          "text": [
            "kaggle.json\n",
            "/content/data\n",
            "Downloading challenges-in-representation-learning-facial-expression-recognition-challenge.zip to /content/data\n",
            " 96% 273M/285M [00:03<00:00, 96.9MB/s]\n",
            "100% 285M/285M [00:03<00:00, 75.7MB/s]\n",
            "/content/data\n",
            "challenges-in-representation-learning-facial-expression-recognition-challenge.zip\n",
            "Archive:  challenges-in-representation-learning-facial-expression-recognition-challenge.zip\n",
            "  inflating: test.csv                \n",
            "  inflating: train.csv               \n"
          ]
        }
      ]
    },
    {
      "cell_type": "code",
      "source": [
        "data = pd.read_csv('train.csv')\n",
        "print(data.head(5))"
      ],
      "metadata": {
        "colab": {
          "base_uri": "https://localhost:8080/"
        },
        "id": "L0Y0Cc-Mgd8w",
        "outputId": "def28555-444c-4791-e810-67f1ad228a1b"
      },
      "execution_count": 3,
      "outputs": [
        {
          "output_type": "stream",
          "name": "stdout",
          "text": [
            "   emotion                                             pixels\n",
            "0        0  70 80 82 72 58 58 60 63 54 58 60 48 89 115 121...\n",
            "1        0  151 150 147 155 148 133 111 140 170 174 182 15...\n",
            "2        2  231 212 156 164 174 138 161 173 182 200 106 38...\n",
            "3        4  24 32 36 30 32 23 19 20 30 41 21 22 32 34 21 1...\n",
            "4        6  4 0 0 0 0 0 0 0 0 0 0 0 3 15 23 28 48 50 58 84...\n"
          ]
        }
      ]
    },
    {
      "cell_type": "code",
      "source": [
        "import csv\n",
        "import numpy\n",
        "\n",
        "train_images = []\n",
        "train_labels = []\n",
        "categories_count = {}\n",
        "\n",
        "with open('train.csv') as train:\n",
        "\n",
        "    # Read train.csv file\n",
        "    csv_reader = csv.reader(train)\n",
        "    \n",
        "    next(csv_reader)  # Skip the header\n",
        "\n",
        "    for row in csv_reader:\n",
        "\n",
        "        # Append image\n",
        "        pixels_str = row[1]\n",
        "        pixels_list = [int(i) for i in pixels_str.split(' ')]\n",
        "        pixels_list = numpy.array(pixels_list, dtype='uint8')\n",
        "        image = pixels_list.reshape((48, 48))\n",
        "        train_images.append(image)\n",
        "\n",
        "        label_str = row[0]\n",
        "\n",
        "        # Calculate categories count\n",
        "        count = 0\n",
        "        if label_str in categories_count:\n",
        "            count = categories_count[label_str] + 1\n",
        "        categories_count[label_str] = count\n",
        "\n",
        "        # Append label\n",
        "        label = int(label_str)\n",
        "        train_labels.append(label)\n",
        "\n",
        "# Create numpy array of train images and labels\n",
        "x_train = numpy.array(train_images)\n",
        "y_train = numpy.array(train_labels)\n",
        "\n",
        "print('x_train shape: {0}'.format(x_train.shape))\n",
        "print('y_train shape: {0}'.format(y_train.shape))"
      ],
      "metadata": {
        "colab": {
          "base_uri": "https://localhost:8080/"
        },
        "id": "HViu1igcggw4",
        "outputId": "b395c594-5899-4225-9014-444bc3216084"
      },
      "execution_count": 4,
      "outputs": [
        {
          "output_type": "stream",
          "name": "stdout",
          "text": [
            "x_train shape: (28709, 48, 48)\n",
            "y_train shape: (28709,)\n"
          ]
        }
      ]
    },
    {
      "cell_type": "code",
      "source": [],
      "metadata": {
        "id": "4FAAqy3wmkvb"
      },
      "execution_count": 4,
      "outputs": []
    },
    {
      "cell_type": "code",
      "source": [
        "categories = ('Angry', 'Disgust', 'Fear', 'Happy', 'Sad', 'Surprise', 'Neutral')\n",
        "y_pos = numpy.arange(len(categories))\n",
        "\n",
        "counts = []\n",
        "for label in range(len(categories)):\n",
        "    label_str = str(label)\n",
        "    count = categories_count[label_str]\n",
        "    counts.append(count)\n",
        "\n",
        "# Draw histogram\n",
        "plt.bar(y_pos, counts, align='center')\n",
        "plt.xticks(y_pos, categories)\n",
        "plt.ylabel('Count')\n",
        "plt.title('FER2013 Dataset Categories')\n",
        "\n",
        "plt.show()"
      ],
      "metadata": {
        "id": "YzII6OtRgjyK",
        "colab": {
          "base_uri": "https://localhost:8080/",
          "height": 452
        },
        "outputId": "90c63fc7-5eb9-4bae-eda3-f35a969da180"
      },
      "execution_count": 5,
      "outputs": [
        {
          "output_type": "display_data",
          "data": {
            "text/plain": [
              "<Figure size 640x480 with 1 Axes>"
            ],
            "image/png": "[encoded data removed]"
          },
          "metadata": {}
        }
      ]
    },
    {
      "cell_type": "code",
      "source": [
        "x_train, x_test, y_train, y_test = train_test_split(x_train, y_train, test_size=0.1, random_state=42)\n",
        "x_train, x_val, y_train, y_val = train_test_split(x_train, y_train, test_size=0.1,random_state = 42)\n",
        "x_train, x_test , x_val= x_train / 255.0, x_test / 255.0, x_val / 255.0\n",
        "\n",
        "x_train = x_train.reshape(len(x_train), 48, 48, 1)\n",
        "x_test = x_test.reshape(len(x_test), 48, 48, 1)\n",
        "x_val = x_val.reshape(len(x_val),48,48,1)\n",
        "print(x_train.shape)\n",
        "print(x_test.shape)"
      ],
      "metadata": {
        "id": "y9yoWQPQgl7C",
        "colab": {
          "base_uri": "https://localhost:8080/"
        },
        "outputId": "3930fe65-0161-4d1d-8597-21340ca217e6"
      },
      "execution_count": 6,
      "outputs": [
        {
          "output_type": "stream",
          "name": "stdout",
          "text": [
            "(23254, 48, 48, 1)\n",
            "(2871, 48, 48, 1)\n"
          ]
        }
      ]
    },
    {
      "cell_type": "code",
      "source": [
        "from keras.utils import to_categorical"
      ],
      "metadata": {
        "id": "VECqUdjzEZpG"
      },
      "execution_count": 7,
      "outputs": []
    },
    {
      "cell_type": "code",
      "source": [
        "datagen = ImageDataGenerator(height_shift_range = 0.3,\n",
        "                            width_shift_range = 0.2,\n",
        "                            rotation_range = 40,\n",
        "                            horizontal_flip = True,\n",
        "                             )"
      ],
      "metadata": {
        "id": "irGwhZM0skSc"
      },
      "execution_count": 8,
      "outputs": []
    },
    {
      "cell_type": "code",
      "source": [
        "cnn = models.Sequential([\n",
        "    layers.Conv2D(filters=64, kernel_size = (3,3),activation = 'relu', padding = 'same',input_shape =(48,48,1) ),\n",
        "    layers.Conv2D(filters=64, kernel_size = (3,3),activation = 'relu',padding = 'same' ),\n",
        "    layers.Conv2D(filters=64, kernel_size = (3,3),activation = 'relu',padding = 'same'),\n",
        "    layers.MaxPooling2D((2,2),strides = 2),\n",
        "    \n",
        "    layers.Conv2D(filters=128, kernel_size = (3,3),activation = 'relu' , padding = 'same'),\n",
        "    layers.Conv2D(filters = 128, kernel_size = (3,3), activation = 'relu', padding = 'same'),\n",
        "    layers.Conv2D(filters = 128, kernel_size = (3,3), activation = 'relu', padding = 'same'),\n",
        "    layers.MaxPooling2D((2,2), strides = 2),\n",
        "    \n",
        "    layers.Conv2D(filters = 256, kernel_size = (3,3), activation = 'relu', padding = 'same'),\n",
        "    layers.Conv2D(filters = 256, kernel_size = (3,3), activation = 'relu', padding = 'same'),\n",
        "    layers.Conv2D(filters = 256, kernel_size = (3,3), activation = 'relu', padding = 'same'),\n",
        "    layers.MaxPool2D((2,2), strides = 2),\n",
        "    \n",
        "    layers.Conv2D(filters = 512, kernel_size = (3,3), activation = 'relu', padding = 'same'),\n",
        "    layers.Conv2D(filters = 512, kernel_size = (3,3), activation = 'relu', padding = 'same'),\n",
        "    layers.Conv2D(filters = 512, kernel_size = (3,3), activation = 'relu', padding = 'same'),\n",
        "    layers.MaxPool2D((2,2), strides = 2),\n",
        "\n",
        "    layers.Flatten(),\n",
        "    layers.Dense(4096, activation = 'relu'),\n",
        "    layers.Dropout(0.5),\n",
        "    layers.Dense(4096, activation = 'relu'),\n",
        "    layers.Dropout(0.5),\n",
        "    layers.Dense(2048, activation = 'relu'),\n",
        "    layers.Dropout(0.5),\n",
        "    layers.Dense(7, activation = 'softmax')\n",
        "])"
      ],
      "metadata": {
        "id": "HHKwXbZv_Btf"
      },
      "execution_count": 9,
      "outputs": []
    },
    {
      "cell_type": "code",
      "source": [
        "cnn.compile(\n",
        "    optimizer = Adam(learning_rate=0.00005),\n",
        "    loss = 'sparse_categorical_crossentropy',\n",
        "    metrics = ['accuracy']\n",
        ")"
      ],
      "metadata": {
        "id": "LpSszEgRLeDJ"
      },
      "execution_count": 10,
      "outputs": []
    },
    {
      "cell_type": "code",
      "source": [
        "callback = EarlyStopping(\n",
        "    monitor = 'loss',\n",
        "    min_delta = 0.0001,\n",
        "    patience = 5,\n",
        "    verbose = 1,\n",
        "    restore_best_weights=True\n",
        ")"
      ],
      "metadata": {
        "id": "Od-n-rRInj7b"
      },
      "execution_count": 11,
      "outputs": []
    },
    {
      "cell_type": "code",
      "source": [
        "train_generator = datagen.flow(\n",
        "    x_train,\n",
        "    y = y_train,\n",
        "    batch_size = 32\n",
        ")"
      ],
      "metadata": {
        "id": "DCs8-0B_tr6j"
      },
      "execution_count": 12,
      "outputs": []
    },
    {
      "cell_type": "code",
      "source": [
        "# val_generator = datagen.flow(\n",
        "#     x_val,\n",
        "#     y = y_val,\n",
        "#     batch_size = 32\n",
        "# )"
      ],
      "metadata": {
        "id": "CcioRvjd5Qp5"
      },
      "execution_count": 13,
      "outputs": []
    },
    {
      "cell_type": "code",
      "source": [
        "test_generator = datagen.flow(\n",
        "    x_test,\n",
        "    y = y_test,\n",
        "    batch_size = 32\n",
        ")"
      ],
      "metadata": {
        "id": "VL0G4-mM5Z3B"
      },
      "execution_count": 14,
      "outputs": []
    },
    {
      "cell_type": "code",
      "source": [
        "history = cnn.fit(train_generator, epochs = 1000, shuffle = True, validation_data=(x_val, y_val), callbacks=callback)"
      ],
      "metadata": {
        "id": "_YH-6hTzMQQ-"
      },
      "execution_count": null,
      "outputs": []
    },
    {
      "cell_type": "code",
      "source": [
        "test_loss, test_acc = cnn.evaluate(x_test, y_test)\n",
        "print('Test accuracy:', test_acc)"
      ],
      "metadata": {
        "colab": {
          "base_uri": "https://localhost:8080/"
        },
        "id": "kkZftcItXEQA",
        "outputId": "78952004-e26e-4c78-b699-9e89fc5bed79"
      },
      "execution_count": 28,
      "outputs": [
        {
          "output_type": "stream",
          "name": "stdout",
          "text": [
            "90/90 [==============================] - 1s 12ms/step - loss: 2.6184 - accuracy: 0.6607\n",
            "Test accuracy: 0.66074538230896\n"
          ]
        }
      ]
    },
    {
      "cell_type": "code",
      "source": [
        "plt.plot(history.history['accuracy'], label = 'train')\n",
        "plt.plot(history.history['val_accuracy'], label = 'validation')\n",
        "plt.legend()\n",
        "plt.show()"
      ],
      "metadata": {
        "id": "hhU3uMjYZ9sO",
        "colab": {
          "base_uri": "https://localhost:8080/",
          "height": 430
        },
        "outputId": "18619a2f-fd68-4767-8299-a8140071108a"
      },
      "execution_count": 19,
      "outputs": [
        {
          "output_type": "display_data",
          "data": {
            "text/plain": [
              "<Figure size 640x480 with 1 Axes>"
            ],
            "image/png": "[encoded data removed]"
          },
          "metadata": {}
        }
      ]
    }
  ]
}